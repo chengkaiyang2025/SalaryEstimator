{
 "cells": [
  {
   "cell_type": "code",
   "execution_count": 2,
   "id": "ca42cbba",
   "metadata": {},
   "outputs": [],
   "source": [
    "\n",
    "import pandas as pd\n",
    "file_path = r'D:\\GITHUB\\SalaryEstimator\\documentation\\data\\df_encoded.json'\n",
    "df = pd.read_json(file_path, lines=True)\n",
    "\n"
   ]
  },
  {
   "cell_type": "code",
   "execution_count": 10,
   "id": "42531fc2",
   "metadata": {},
   "outputs": [],
   "source": [
    "a = df.columns.tolist()  # Display all column names"
   ]
  },
  {
   "cell_type": "code",
   "execution_count": 23,
   "id": "151fa141",
   "metadata": {},
   "outputs": [],
   "source": [
    "# 选择指定的两列\n",
    "cols = ['Cost_Index', 'GDP_per_capita']\n",
    "\n",
    "# 选择所有以 Country_ 开头的列\n",
    "country_cols = [col for col in df.columns if col.startswith('Country_')]\n",
    "\n",
    "# 合并所有需要的列\n",
    "selected_cols = cols + country_cols\n",
    "\n",
    "# 取出这些列\n",
    "\n",
    "df_selected = df[selected_cols]\n",
    "\n",
    "df_selected = df[selected_cols].drop_duplicates()\n",
    "\n",
    "# 找到每行对应的国家名\n",
    "df_selected['Country'] = df_selected[country_cols].idxmax(axis=1).str.replace('Country_', '')\n",
    "\n",
    "# 如果有多于一个国家为1，可以用下面的方式得到所有国家名列表\n",
    "# df_selected['Country'] = df_selected[country_cols].apply(lambda x: ','.join(x.index[x==1]).replace('Country_', ''), axis=1)"
   ]
  },
  {
   "cell_type": "code",
   "execution_count": 27,
   "id": "26b1c0e8",
   "metadata": {},
   "outputs": [
    {
     "data": {
      "text/html": [
       "<div>\n",
       "<style scoped>\n",
       "    .dataframe tbody tr th:only-of-type {\n",
       "        vertical-align: middle;\n",
       "    }\n",
       "\n",
       "    .dataframe tbody tr th {\n",
       "        vertical-align: top;\n",
       "    }\n",
       "\n",
       "    .dataframe thead th {\n",
       "        text-align: right;\n",
       "    }\n",
       "</style>\n",
       "<table border=\"1\" class=\"dataframe\">\n",
       "  <thead>\n",
       "    <tr style=\"text-align: right;\">\n",
       "      <th></th>\n",
       "      <th>Country</th>\n",
       "      <th>Cost_Index</th>\n",
       "      <th>GDP_per_capita</th>\n",
       "    </tr>\n",
       "  </thead>\n",
       "  <tbody>\n",
       "    <tr>\n",
       "      <th>0</th>\n",
       "      <td>Pakistan</td>\n",
       "      <td>10.299143</td>\n",
       "      <td>1484.749859</td>\n",
       "    </tr>\n",
       "    <tr>\n",
       "      <th>1</th>\n",
       "      <td>Türkiye</td>\n",
       "      <td>13.506102</td>\n",
       "      <td>15473.287264</td>\n",
       "    </tr>\n",
       "    <tr>\n",
       "      <th>2</th>\n",
       "      <td>United States</td>\n",
       "      <td>62.048253</td>\n",
       "      <td>85809.900385</td>\n",
       "    </tr>\n",
       "    <tr>\n",
       "      <th>3</th>\n",
       "      <td>United Kingdom</td>\n",
       "      <td>64.380714</td>\n",
       "      <td>52636.786594</td>\n",
       "    </tr>\n",
       "    <tr>\n",
       "      <th>5</th>\n",
       "      <td>Greece</td>\n",
       "      <td>41.494848</td>\n",
       "      <td>24752.106840</td>\n",
       "    </tr>\n",
       "    <tr>\n",
       "      <th>...</th>\n",
       "      <td>...</td>\n",
       "      <td>...</td>\n",
       "      <td>...</td>\n",
       "    </tr>\n",
       "    <tr>\n",
       "      <th>12322</th>\n",
       "      <td>Cambodia</td>\n",
       "      <td>23.800000</td>\n",
       "      <td>2627.879697</td>\n",
       "    </tr>\n",
       "    <tr>\n",
       "      <th>12840</th>\n",
       "      <td>Botswana</td>\n",
       "      <td>32.915000</td>\n",
       "      <td>7695.242064</td>\n",
       "    </tr>\n",
       "    <tr>\n",
       "      <th>12918</th>\n",
       "      <td>Cameroon</td>\n",
       "      <td>20.652857</td>\n",
       "      <td>1762.368351</td>\n",
       "    </tr>\n",
       "    <tr>\n",
       "      <th>14701</th>\n",
       "      <td>Suriname</td>\n",
       "      <td>80.000000</td>\n",
       "      <td>7430.702192</td>\n",
       "    </tr>\n",
       "    <tr>\n",
       "      <th>14901</th>\n",
       "      <td>Haiti</td>\n",
       "      <td>61.817500</td>\n",
       "      <td>2142.623305</td>\n",
       "    </tr>\n",
       "  </tbody>\n",
       "</table>\n",
       "<p>150 rows × 3 columns</p>\n",
       "</div>"
      ],
      "text/plain": [
       "              Country  Cost_Index  GDP_per_capita\n",
       "0            Pakistan   10.299143     1484.749859\n",
       "1             Türkiye   13.506102    15473.287264\n",
       "2       United States   62.048253    85809.900385\n",
       "3      United Kingdom   64.380714    52636.786594\n",
       "5              Greece   41.494848    24752.106840\n",
       "...               ...         ...             ...\n",
       "12322        Cambodia   23.800000     2627.879697\n",
       "12840        Botswana   32.915000     7695.242064\n",
       "12918        Cameroon   20.652857     1762.368351\n",
       "14701        Suriname   80.000000     7430.702192\n",
       "14901           Haiti   61.817500     2142.623305\n",
       "\n",
       "[150 rows x 3 columns]"
      ]
     },
     "execution_count": 27,
     "metadata": {},
     "output_type": "execute_result"
    }
   ],
   "source": [
    "df_selected[[\"Country\", 'Cost_Index', 'GDP_per_capita']] "
   ]
  },
  {
   "cell_type": "code",
   "execution_count": 28,
   "id": "eaf77f5d",
   "metadata": {},
   "outputs": [],
   "source": [
    "df_selected[[\"Country\", \"Cost_Index\", \"GDP_per_capita\"]].to_json(\"selected_country.json\", orient=\"records\", force_ascii=False)"
   ]
  },
  {
   "cell_type": "code",
   "execution_count": 2,
   "id": "ad595ccf",
   "metadata": {},
   "outputs": [],
   "source": [
    "import json\n",
    "with open('D:\\\\GITHUB\\\\SalaryEstimator\\\\code\\\\web\\\\selected_country.json', 'r', encoding='utf-8') as f:\n",
    "    country_data = json.load(f)\n",
    "\n",
    "    # country_map = {item['Country']: item for item in country_data}\n",
    "    "
   ]
  },
  {
   "cell_type": "code",
   "execution_count": 4,
   "id": "dc05ec0f",
   "metadata": {},
   "outputs": [],
   "source": [
    "country_map = {item['Country']: item for item in country_data}"
   ]
  },
  {
   "cell_type": "code",
   "execution_count": null,
   "id": "b0525f2e",
   "metadata": {},
   "outputs": [
    {
     "data": {
      "text/plain": [
       "85809.9003846356"
      ]
     },
     "execution_count": 7,
     "metadata": {},
     "output_type": "execute_result"
    }
   ],
   "source": [
    "country_map.get('United States', {}).get('GDP_per_capita', 0)"
   ]
  }
 ],
 "metadata": {
  "kernelspec": {
   "display_name": ".venv",
   "language": "python",
   "name": "python3"
  },
  "language_info": {
   "codemirror_mode": {
    "name": "ipython",
    "version": 3
   },
   "file_extension": ".py",
   "mimetype": "text/x-python",
   "name": "python",
   "nbconvert_exporter": "python",
   "pygments_lexer": "ipython3",
   "version": "3.12.10"
  }
 },
 "nbformat": 4,
 "nbformat_minor": 5
}
