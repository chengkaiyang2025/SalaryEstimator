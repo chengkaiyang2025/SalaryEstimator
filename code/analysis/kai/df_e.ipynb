{
 "cells": [
  {
   "cell_type": "code",
   "execution_count": 1,
   "id": "ca42cbba",
   "metadata": {
    "jupyter": {
     "is_executing": true
    }
   },
   "outputs": [],
   "source": [
    "\n",
    "import pandas as pd\n",
    "file_path = r'D:\\GITHUB\\SalaryEstimator\\documentation\\data\\df_encoded.json'\n",
    "df = pd.read_json(file_path, lines=True)\n",
    "\n"
   ]
  },
  {
   "cell_type": "code",
   "execution_count": 2,
   "id": "42531fc2",
   "metadata": {},
   "outputs": [],
   "source": [
    "a = df.columns.tolist()  # Display all column names"
   ]
  },
  {
   "cell_type": "code",
   "execution_count": 3,
   "id": "151fa141",
   "metadata": {},
   "outputs": [],
   "source": [
    "# 选择指定的两列\n",
    "cols = ['Cost_Index', 'GDP_per_capita']\n",
    "\n",
    "# 选择所有以 Country_ 开头的列\n",
    "country_cols = [col for col in df.columns if col.startswith('Country_')]\n",
    "\n",
    "# 合并所有需要的列\n",
    "selected_cols = cols + country_cols\n",
    "\n",
    "# 取出这些列\n",
    "\n",
    "df_selected = df[selected_cols]\n",
    "\n",
    "df_selected = df[selected_cols].drop_duplicates()\n",
    "\n",
    "# 找到每行对应的国家名\n",
    "df_selected['Country'] = df_selected[country_cols].idxmax(axis=1).str.replace('Country_', '')\n",
    "\n",
    "# 如果有多于一个国家为1，可以用下面的方式得到所有国家名列表\n",
    "# df_selected['Country'] = df_selected[country_cols].apply(lambda x: ','.join(x.index[x==1]).replace('Country_', ''), axis=1)"
   ]
  },
  {
   "cell_type": "code",
   "execution_count": 4,
   "id": "26b1c0e8",
   "metadata": {},
   "outputs": [
    {
     "data": {
      "text/html": [
       "<div>\n",
       "<style scoped>\n",
       "    .dataframe tbody tr th:only-of-type {\n",
       "        vertical-align: middle;\n",
       "    }\n",
       "\n",
       "    .dataframe tbody tr th {\n",
       "        vertical-align: top;\n",
       "    }\n",
       "\n",
       "    .dataframe thead th {\n",
       "        text-align: right;\n",
       "    }\n",
       "</style>\n",
       "<table border=\"1\" class=\"dataframe\">\n",
       "  <thead>\n",
       "    <tr style=\"text-align: right;\">\n",
       "      <th></th>\n",
       "      <th>Country</th>\n",
       "      <th>Cost_Index</th>\n",
       "      <th>GDP_per_capita</th>\n",
       "    </tr>\n",
       "  </thead>\n",
       "  <tbody>\n",
       "    <tr>\n",
       "      <th>0</th>\n",
       "      <td>Pakistan</td>\n",
       "      <td>10.299143</td>\n",
       "      <td>1484.749859</td>\n",
       "    </tr>\n",
       "    <tr>\n",
       "      <th>1</th>\n",
       "      <td>Türkiye</td>\n",
       "      <td>13.506102</td>\n",
       "      <td>15473.287264</td>\n",
       "    </tr>\n",
       "    <tr>\n",
       "      <th>2</th>\n",
       "      <td>United States</td>\n",
       "      <td>62.048253</td>\n",
       "      <td>85809.900385</td>\n",
       "    </tr>\n",
       "    <tr>\n",
       "      <th>3</th>\n",
       "      <td>United Kingdom</td>\n",
       "      <td>64.380714</td>\n",
       "      <td>52636.786594</td>\n",
       "    </tr>\n",
       "    <tr>\n",
       "      <th>5</th>\n",
       "      <td>Greece</td>\n",
       "      <td>41.494848</td>\n",
       "      <td>24752.106840</td>\n",
       "    </tr>\n",
       "    <tr>\n",
       "      <th>...</th>\n",
       "      <td>...</td>\n",
       "      <td>...</td>\n",
       "      <td>...</td>\n",
       "    </tr>\n",
       "    <tr>\n",
       "      <th>12322</th>\n",
       "      <td>Cambodia</td>\n",
       "      <td>23.800000</td>\n",
       "      <td>2627.879697</td>\n",
       "    </tr>\n",
       "    <tr>\n",
       "      <th>12840</th>\n",
       "      <td>Botswana</td>\n",
       "      <td>32.915000</td>\n",
       "      <td>7695.242064</td>\n",
       "    </tr>\n",
       "    <tr>\n",
       "      <th>12918</th>\n",
       "      <td>Cameroon</td>\n",
       "      <td>20.652857</td>\n",
       "      <td>1762.368351</td>\n",
       "    </tr>\n",
       "    <tr>\n",
       "      <th>14701</th>\n",
       "      <td>Suriname</td>\n",
       "      <td>80.000000</td>\n",
       "      <td>7430.702192</td>\n",
       "    </tr>\n",
       "    <tr>\n",
       "      <th>14901</th>\n",
       "      <td>Haiti</td>\n",
       "      <td>61.817500</td>\n",
       "      <td>2142.623305</td>\n",
       "    </tr>\n",
       "  </tbody>\n",
       "</table>\n",
       "<p>150 rows × 3 columns</p>\n",
       "</div>"
      ],
      "text/plain": [
       "              Country  Cost_Index  GDP_per_capita\n",
       "0            Pakistan   10.299143     1484.749859\n",
       "1             Türkiye   13.506102    15473.287264\n",
       "2       United States   62.048253    85809.900385\n",
       "3      United Kingdom   64.380714    52636.786594\n",
       "5              Greece   41.494848    24752.106840\n",
       "...               ...         ...             ...\n",
       "12322        Cambodia   23.800000     2627.879697\n",
       "12840        Botswana   32.915000     7695.242064\n",
       "12918        Cameroon   20.652857     1762.368351\n",
       "14701        Suriname   80.000000     7430.702192\n",
       "14901           Haiti   61.817500     2142.623305\n",
       "\n",
       "[150 rows x 3 columns]"
      ]
     },
     "execution_count": 4,
     "metadata": {},
     "output_type": "execute_result"
    }
   ],
   "source": [
    "df_selected[[\"Country\", 'Cost_Index', 'GDP_per_capita']] "
   ]
  },
  {
   "cell_type": "code",
   "execution_count": 28,
   "id": "eaf77f5d",
   "metadata": {},
   "outputs": [],
   "source": [
    "# df_selected[[\"Country\", \"Cost_Index\", \"GDP_per_capita\"]].to_json(\"selected_country.json\", orient=\"records\", force_ascii=False)"
   ]
  },
  {
   "cell_type": "code",
   "execution_count": 6,
   "id": "ad595ccf",
   "metadata": {},
   "outputs": [],
   "source": [
    "import json\n",
    "with open('D:\\\\GITHUB\\\\SalaryEstimator\\\\code\\\\web\\\\selected_country.json', 'r', encoding='utf-8') as f:\n",
    "    country_data = json.load(f)\n",
    "\n",
    "    # country_map = {item['Country']: item for item in country_data}\n",
    "    "
   ]
  },
  {
   "cell_type": "code",
   "execution_count": 7,
   "id": "dc05ec0f",
   "metadata": {},
   "outputs": [],
   "source": [
    "country_map = {item['Country']: item for item in country_data}"
   ]
  },
  {
   "cell_type": "code",
   "execution_count": 9,
   "id": "b0525f2e",
   "metadata": {},
   "outputs": [
    {
     "name": "stdout",
     "output_type": "stream",
     "text": [
      "85809.9003846356\n",
      "62.0482529475\n"
     ]
    }
   ],
   "source": [
    "print(country_map.get('United States', {}).get('GDP_per_capita', 0))\n",
    "print(country_map.get('United States', {}).get('Cost_Index', 0))"
   ]
  },
  {
   "cell_type": "code",
   "execution_count": 20,
   "id": "d5d54877",
   "metadata": {},
   "outputs": [
    {
     "name": "stdout",
     "output_type": "stream",
     "text": [
      "Predicted log salary: 5.0669\n",
      "Predicted annual salary: $116,653.65\n",
      "Experience Level (calculated): Expert\n"
     ]
    },
    {
     "name": "stderr",
     "output_type": "stream",
     "text": [
      "<>:6: SyntaxWarning: invalid escape sequence '\\G'\n",
      "<>:6: SyntaxWarning: invalid escape sequence '\\G'\n",
      "C:\\Users\\yck\\AppData\\Local\\Temp\\ipykernel_7860\\2627550256.py:6: SyntaxWarning: invalid escape sequence '\\G'\n",
      "  model = joblib.load('D:\\GITHUB\\SalaryEstimator\\code\\web\\lr_model.pkl')\n",
      "d:\\GITHUB\\SalaryEstimator\\.venv\\Lib\\site-packages\\sklearn\\base.py:440: InconsistentVersionWarning: Trying to unpickle estimator StandardScaler from version 1.6.1 when using version 1.7.0. This might lead to breaking code or invalid results. Use at your own risk. For more info please refer to:\n",
      "https://scikit-learn.org/stable/model_persistence.html#security-maintainability-limitations\n",
      "  warnings.warn(\n",
      "d:\\GITHUB\\SalaryEstimator\\.venv\\Lib\\site-packages\\sklearn\\base.py:440: InconsistentVersionWarning: Trying to unpickle estimator LinearRegression from version 1.6.1 when using version 1.7.0. This might lead to breaking code or invalid results. Use at your own risk. For more info please refer to:\n",
      "https://scikit-learn.org/stable/model_persistence.html#security-maintainability-limitations\n",
      "  warnings.warn(\n",
      "d:\\GITHUB\\SalaryEstimator\\.venv\\Lib\\site-packages\\sklearn\\base.py:440: InconsistentVersionWarning: Trying to unpickle estimator Pipeline from version 1.6.1 when using version 1.7.0. This might lead to breaking code or invalid results. Use at your own risk. For more info please refer to:\n",
      "https://scikit-learn.org/stable/model_persistence.html#security-maintainability-limitations\n",
      "  warnings.warn(\n"
     ]
    }
   ],
   "source": [
    "import joblib\n",
    "import pandas as pd\n",
    "import numpy as np\n",
    "\n",
    "# Load model\n",
    "model = joblib.load('D:\\GITHUB\\SalaryEstimator\\code\\web\\lr_model.pkl')\n",
    "\n",
    "def map_experience_level(years):\n",
    "    if pd.isna(years):\n",
    "        return np.nan\n",
    "    elif years < 2:\n",
    "        return 'Beginner'\n",
    "    elif years < 5:\n",
    "        return 'Intermediate'\n",
    "    elif years < 10:\n",
    "        return 'Advanced'\n",
    "    else:\n",
    "        return 'Expert'\n",
    "\n",
    "# User input for numerical features\n",
    "user_input = {\n",
    "    'YearsCodePro': 10,\n",
    "    'Age': 30,\n",
    "    'WorkExp': 7,\n",
    "    'GDP_per_capita': 85809.9003846356,\n",
    "    'Cost_Index': 62.0482529475\n",
    "}\n",
    "\n",
    "# Dictionary selections for one-hot encoded features\n",
    "selections = {\n",
    "    'EdLevel': 'Bachelor\\'s degree (B.A., B.S., B.Eng., etc.)',\n",
    "    'RemoteWork': 'Remote',\n",
    "    'OrgSize': '100 to 499 employees',\n",
    "     'Country': 'United States',\n",
    "    #  'Country': 'Canada',\n",
    "    'DevType': 'Developer, full-stack',\n",
    "    'Employment': 'Employed, full-time',\n",
    "    'Languages': ['Python', 'JavaScript']\n",
    "}\n",
    "\n",
    "# Create DataFrame with all zeros\n",
    "df = pd.DataFrame(0, index=[0], columns=model.feature_names_in_)\n",
    "\n",
    "# Fill numerical features\n",
    "for key, value in user_input.items():\n",
    "    if key in df.columns:\n",
    "        df[key] = value\n",
    "\n",
    "# Calculate ExperienceLevel based on YearsCodePro\n",
    "experience_level = map_experience_level(user_input['YearsCodePro'])\n",
    "\n",
    "# Fill one-hot encoded features\n",
    "for feature, selection in selections.items():\n",
    "    if feature == 'Languages':\n",
    "        # Handle multiple language selection\n",
    "        for lang in selection:\n",
    "            lang_col = f'Lang_{lang}'\n",
    "            if lang_col in df.columns:\n",
    "                df[lang_col] = 1\n",
    "    else:\n",
    "        # Handle single selection\n",
    "        col_name = f'{feature}_{selection}'\n",
    "        if col_name in df.columns:\n",
    "            df[col_name] = 1\n",
    "\n",
    "# Handle ExperienceLevel separately since it's calculated automatically\n",
    "if experience_level is not None:\n",
    "    exp_col = f'ExperienceLevel_{experience_level}'\n",
    "    if exp_col in df.columns:\n",
    "        df[exp_col] = 1\n",
    "\n",
    "# Make prediction\n",
    "prediction = model.predict(df)[0]\n",
    "actual_salary = np.power(10, prediction)\n",
    "\n",
    "print(f\"Predicted log salary: {prediction:.4f}\")\n",
    "print(f\"Predicted annual salary: ${actual_salary:,.2f}\")\n",
    "print(f\"Experience Level (calculated): {experience_level}\")\n",
    "\n"
   ]
  }
 ],
 "metadata": {
  "kernelspec": {
   "display_name": ".venv",
   "language": "python",
   "name": "python3"
  },
  "language_info": {
   "codemirror_mode": {
    "name": "ipython",
    "version": 3
   },
   "file_extension": ".py",
   "mimetype": "text/x-python",
   "name": "python",
   "nbconvert_exporter": "python",
   "pygments_lexer": "ipython3",
   "version": "3.12.10"
  }
 },
 "nbformat": 4,
 "nbformat_minor": 5
}
